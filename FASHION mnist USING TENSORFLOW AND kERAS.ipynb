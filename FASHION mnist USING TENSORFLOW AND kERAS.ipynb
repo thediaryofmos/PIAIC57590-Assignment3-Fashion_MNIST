{
 "cells": [
  {
   "cell_type": "code",
   "execution_count": 1,
   "metadata": {},
   "outputs": [],
   "source": [
    "from tensorflow.keras.datasets import fashion_mnist\n",
    "import matplotlib.pyplot as plt\n",
    "from tensorflow.keras import models\n",
    "from tensorflow.keras import layers"
   ]
  },
  {
   "cell_type": "code",
   "execution_count": 2,
   "metadata": {},
   "outputs": [
    {
     "name": "stdout",
     "output_type": "stream",
     "text": [
      "60000\n",
      "60000\n",
      "10000\n",
      "10000\n",
      "3\n",
      "(60000, 28, 28)\n",
      "uint8\n",
      "<class 'int'>\n"
     ]
    }
   ],
   "source": [
    "#lOADING DATASET\n",
    "(train_images, train_labels),(test_images,test_labels) = fashion_mnist.load_data()\n",
    "\n",
    "print(len(train_images))\n",
    "print(len(train_labels))\n",
    "\n",
    "print(len(test_images))\n",
    "print(len(test_labels))\n",
    "\n",
    "print(train_images.ndim)\n",
    "print(train_images.shape)\n",
    "print(train_images.dtype)\n",
    "print(type(train_images.ndim))"
   ]
  },
  {
   "cell_type": "code",
   "execution_count": 3,
   "metadata": {},
   "outputs": [],
   "source": [
    "class_names = ['T-shirt/top', 'Trouser', 'Pullover', 'Dress', 'Coat',\n",
    "               'Sandal', 'Shirt', 'Sneaker', 'Bag', 'Ankle boot']"
   ]
  },
  {
   "cell_type": "code",
   "execution_count": 4,
   "metadata": {},
   "outputs": [
    {
     "name": "stdout",
     "output_type": "stream",
     "text": [
      "Class_Labels= Sneaker\n"
     ]
    },
    {
     "data": {
      "image/png": "[encoded data removed]",
      "text/plain": [
       "<Figure size 432x288 with 1 Axes>"
      ]
     },
     "metadata": {
      "needs_background": "light"
     },
     "output_type": "display_data"
    }
   ],
   "source": [
    "dress = train_images[6]\n",
    "print(\"Class_Labels=\",class_names[train_labels[6]])\n",
    "plt.imshow(dress,cmap=plt.cm.binary)\n",
    "plt.show()"
   ]
  },
  {
   "cell_type": "code",
   "execution_count": 5,
   "metadata": {},
   "outputs": [],
   "source": [
    "#MODEL\n",
    "Network = models.Sequential()\n",
    "Network.add(layers.Dense(1024, activation='relu',input_shape=(28*28,)))\n",
    "Network.add(layers.Dense(512, activation='relu',input_shape=(28*28,)))\n",
    "Network.add(layers.Dense(10, activation='softmax'))"
   ]
  },
  {
   "cell_type": "code",
   "execution_count": 6,
   "metadata": {},
   "outputs": [
    {
     "data": {
      "text/plain": [
       "3"
      ]
     },
     "execution_count": 6,
     "metadata": {},
     "output_type": "execute_result"
    }
   ],
   "source": [
    "# Compilation\n",
    "Network.compile(optimizer='rmsprop', loss='categorical_crossentropy', metrics=['accuracy'])\n",
    "train_images.ndim"
   ]
  },
  {
   "cell_type": "code",
   "execution_count": 7,
   "metadata": {},
   "outputs": [
    {
     "data": {
      "text/plain": [
       "3"
      ]
     },
     "execution_count": 7,
     "metadata": {},
     "output_type": "execute_result"
    }
   ],
   "source": [
    "#Preparing the image data\n",
    "train_images=train_images.reshape(60000,28*28)\n",
    "train_images=train_images.astype('float32')/255  # Normalization\n",
    "\n",
    "test_images=test_images.reshape(10000,28*28)\n",
    "test_images=test_images.astype('float32')/255  # Normalization\n",
    "\n",
    "# Preparing Labels\n",
    "train_labels[3]"
   ]
  },
  {
   "cell_type": "code",
   "execution_count": 8,
   "metadata": {},
   "outputs": [
    {
     "data": {
      "text/plain": [
       "array([0., 0., 0., 1., 0., 0., 0., 0., 0., 0.], dtype=float32)"
      ]
     },
     "execution_count": 8,
     "metadata": {},
     "output_type": "execute_result"
    }
   ],
   "source": [
    "# One Hot Encoding\n",
    "from tensorflow.keras.utils import to_categorical\n",
    "train_labels=to_categorical(train_labels)\n",
    "test_labels=to_categorical(test_labels)\n",
    "\n",
    "train_labels[3]"
   ]
  },
  {
   "cell_type": "code",
   "execution_count": 9,
   "metadata": {},
   "outputs": [
    {
     "name": "stdout",
     "output_type": "stream",
     "text": [
      "Epoch 1/15\n",
      "469/469 [==============================] - 6s 11ms/step - loss: 0.7676 - accuracy: 0.7368\n",
      "Epoch 2/15\n",
      "469/469 [==============================] - 5s 11ms/step - loss: 0.3874 - accuracy: 0.8576\n",
      "Epoch 3/15\n",
      "469/469 [==============================] - 5s 12ms/step - loss: 0.3395 - accuracy: 0.8754\n",
      "Epoch 4/15\n",
      "469/469 [==============================] - 6s 13ms/step - loss: 0.3134 - accuracy: 0.8836\n",
      "Epoch 5/15\n",
      "469/469 [==============================] - 7s 14ms/step - loss: 0.2976 - accuracy: 0.8909\n",
      "Epoch 6/15\n",
      "469/469 [==============================] - 6s 13ms/step - loss: 0.2862 - accuracy: 0.8939\n",
      "Epoch 7/15\n",
      "469/469 [==============================] - 6s 14ms/step - loss: 0.2697 - accuracy: 0.9010\n",
      "Epoch 8/15\n",
      "469/469 [==============================] - 7s 15ms/step - loss: 0.2618 - accuracy: 0.9043\n",
      "Epoch 9/15\n",
      "469/469 [==============================] - 6s 13ms/step - loss: 0.2540 - accuracy: 0.9050\n",
      "Epoch 10/15\n",
      "469/469 [==============================] - 7s 14ms/step - loss: 0.2469 - accuracy: 0.9113\n",
      "Epoch 11/15\n",
      "469/469 [==============================] - 6s 13ms/step - loss: 0.2375 - accuracy: 0.9128\n",
      "Epoch 12/15\n",
      "469/469 [==============================] - 6s 13ms/step - loss: 0.2290 - accuracy: 0.9142\n",
      "Epoch 13/15\n",
      "469/469 [==============================] - 7s 14ms/step - loss: 0.2237 - accuracy: 0.9165\n",
      "Epoch 14/15\n",
      "469/469 [==============================] - 6s 13ms/step - loss: 0.2230 - accuracy: 0.9170\n",
      "Epoch 15/15\n",
      "469/469 [==============================] - 7s 14ms/step - loss: 0.2155 - accuracy: 0.9197\n"
     ]
    },
    {
     "data": {
      "text/plain": [
       "<tensorflow.python.keras.callbacks.History at 0x2f1cc3e2348>"
      ]
     },
     "execution_count": 9,
     "metadata": {},
     "output_type": "execute_result"
    }
   ],
   "source": [
    "#Train Model\n",
    "Network.fit(train_images,train_labels,epochs=15,batch_size=128)"
   ]
  },
  {
   "cell_type": "code",
   "execution_count": 10,
   "metadata": {},
   "outputs": [
    {
     "name": "stdout",
     "output_type": "stream",
     "text": [
      "313/313 [==============================] - 1s 1ms/step - loss: 0.4528 - accuracy: 0.8898\n",
      "Test Loss:  0.45283403992652893\n",
      "Test Accuracy: 0.8898000121116638\n"
     ]
    }
   ],
   "source": [
    "#EVALUATE THE MODEL\n",
    "\n",
    "test_loss, test_acc = Network.evaluate(test_images, test_labels)\n",
    "print(\"Test Loss: \", test_loss)\n",
    "print(\"Test Accuracy:\", test_acc )"
   ]
  }
 ],
 "metadata": {
  "kernelspec": {
   "display_name": "Python 3",
   "language": "python",
   "name": "python3"
  },
  "language_info": {
   "codemirror_mode": {
    "name": "ipython",
    "version": 3
   },
   "file_extension": ".py",
   "mimetype": "text/x-python",
   "name": "python",
   "nbconvert_exporter": "python",
   "pygments_lexer": "ipython3",
   "version": "3.7.4"
  }
 },
 "nbformat": 4,
 "nbformat_minor": 2
}
